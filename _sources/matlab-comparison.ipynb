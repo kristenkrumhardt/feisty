{
 "cells": [
  {
   "cell_type": "markdown",
   "id": "f606cb75-6746-4939-8243-f256ce02707b",
   "metadata": {
    "tags": []
   },
   "source": [
    "# Running the model\n",
    "\n",
    "Setup a `feisty` integration.\n"
   ]
  },
  {
   "cell_type": "code",
   "execution_count": 1,
   "id": "7e1cb691-f373-4293-bcd1-17cb52726b60",
   "metadata": {},
   "outputs": [],
   "source": [
    "%load_ext autoreload\n",
    "%autoreload 2"
   ]
  },
  {
   "cell_type": "code",
   "execution_count": 2,
   "id": "46c9df26-5ac1-4511-9b9f-3b78a10dc4af",
   "metadata": {},
   "outputs": [],
   "source": [
    "import matplotlib.pyplot as plt\n",
    "import numpy as np\n",
    "import yaml\n",
    "\n",
    "import feisty"
   ]
  },
  {
   "cell_type": "markdown",
   "id": "fdd4db51-d57e-438f-8aa9-b8f2a905cd3e",
   "metadata": {},
   "source": [
    "## Configure testcase to run\n",
    "\n",
    "TODO: this is using the first column (which I believe is shallowest); want to add deepest column as well.\n",
    "That will require refactoring the yaml file and also changing test_ds."
   ]
  },
  {
   "cell_type": "code",
   "execution_count": 3,
   "id": "030cb992-2601-49e7-a3c0-52db1d0edd8c",
   "metadata": {},
   "outputs": [],
   "source": [
    "with open(\"matlab_first_timestep.yaml\") as f:\n",
    "    baselines = yaml.safe_load(f)\n",
    "\n",
    "\n",
    "def compare(baselines_dict, da_or_ds, full_table=True, markdown_formatting=False):\n",
    "    if markdown_formatting:\n",
    "        if \"dimname\" in baselines_dict:\n",
    "            print(f\"| {baselines_dict['dimname']} | Matlab Value | Python Value | Rel Err |\")\n",
    "        else:\n",
    "            print(f\"|  | Matlab Value | Python Value | Rel Err |\")\n",
    "        print(\"| --- | --- | --- | --- |\")\n",
    "        seps = [\"| \", \" | \", \" | \", \" |\"]\n",
    "    else:\n",
    "        seps = [\"\", \": \", \", \", \"\"]\n",
    "    if \"dimname\" in baselines_dict:\n",
    "        all_vars = da_or_ds[baselines_dict[\"dimname\"]].data\n",
    "    else:\n",
    "        all_vars = baselines_dict[\"values\"]\n",
    "    for var in all_vars:\n",
    "        if \"dimname\" in baselines_dict:\n",
    "            da = da_or_ds\n",
    "            sel_dict = {baselines_dict[\"dimname\"]: var}\n",
    "        else:\n",
    "            da = da_or_ds[var]\n",
    "            sel_dict = {}\n",
    "        matlab_val = baselines_dict[\"values\"][var]\n",
    "        py_val = da.sel(sel_dict).data\n",
    "        if matlab_val != 0:\n",
    "            rel_err = (py_val - matlab_val) / matlab_val\n",
    "            if rel_err < 0:\n",
    "                rel_err = -rel_err\n",
    "        else:\n",
    "            if py_val == 0:\n",
    "                rel_err = 0\n",
    "            elif py_val > 0:\n",
    "                rel_err = np.inf\n",
    "            elif py_val < 0:\n",
    "                rel_err = -np.inf\n",
    "        if full_table or rel_err > 1e-2:\n",
    "            print(\n",
    "                f\"{seps[0]}{var}{seps[1]}{matlab_val:10.4e}{seps[2]}\"\n",
    "                + f\"{py_val:10.4e}{seps[2]}{rel_err:10.4e}{seps[-1]}\"\n",
    "            )"
   ]
  },
  {
   "cell_type": "code",
   "execution_count": 4,
   "id": "09ec80a2-06d0-42e8-be0f-935c0920cb81",
   "metadata": {},
   "outputs": [],
   "source": [
    "matlab_script = \"test_case\"\n",
    "\n",
    "if matlab_script == \"test_case\":\n",
    "    testcase = feisty.driver.simulate_testcase(\"tanh_shelf\", \"cyclic\")\n",
    "else:\n",
    "    raise ValueError(f\"unknown matlab_script '{matlab_script}'\")"
   ]
  },
  {
   "cell_type": "code",
   "execution_count": 5,
   "id": "ec2c8d29-3e80-4a9b-919a-dde05891bd38",
   "metadata": {},
   "outputs": [
    {
     "name": "stdout",
     "output_type": "stream",
     "text": [
      "|  | Matlab Value | Python Value | Rel Err |\n",
      "| --- | --- | --- | --- |\n",
      "| T_pelagic | 1.8200e+01 | 1.8200e+01 | 0.0000e+00 |\n",
      "| T_bottom | 4.2000e+00 | 4.2000e+00 | 0.0000e+00 |\n",
      "| zooC | 3.3287e+00 | 3.3287e+00 | 0.0000e+00 |\n",
      "| poc_flux_bottom | 2.7847e-02 | 2.7847e-02 | 1.2459e-16 |\n",
      "| zoo_mort | 7.7564e-01 | 7.7564e-01 | 0.0000e+00 |\n"
     ]
    }
   ],
   "source": [
    "compare(\n",
    "    baselines[matlab_script][\"day1\"][\"forcing\"],\n",
    "    testcase.forcing.isel(time=0, X=0, zooplankton=0),\n",
    "    markdown_formatting=True,\n",
    ")"
   ]
  },
  {
   "cell_type": "markdown",
   "id": "f0e8e7d5-c76e-44c6-bd8f-7eedef102100",
   "metadata": {},
   "source": [
    "## Run the model\n"
   ]
  },
  {
   "cell_type": "code",
   "execution_count": 6,
   "id": "f68ea35b-93e4-4dea-a67d-919ee79af8e9",
   "metadata": {},
   "outputs": [
    {
     "name": "stdout",
     "output_type": "stream",
     "text": [
      "CPU times: user 1min 41s, sys: 82.2 ms, total: 1min 41s\n",
      "Wall time: 1min 46s\n"
     ]
    }
   ],
   "source": [
    "%%time\n",
    "\n",
    "nsteps = 365\n",
    "make_plot = False\n",
    "testcase.run(nsteps)"
   ]
  },
  {
   "cell_type": "code",
   "execution_count": 7,
   "id": "f3439d6c-9606-4c88-b239-95be0fdbe0b8",
   "metadata": {},
   "outputs": [],
   "source": [
    "check_key = f\"day{nsteps}\"\n",
    "\n",
    "if nsteps > 1:\n",
    "    if make_plot:\n",
    "        for group in test_ds.group.data:\n",
    "            testcase.ds.biomass.sel(group=group).isel(X=0).plot()\n",
    "        plt.ylim([1e-6, 1])\n",
    "        plt.yscale(\"log\")\n",
    "        plt.legend(test_ds.group.data)\n",
    "\n",
    "test_ds = testcase.ds.isel(X=0, time=-1)"
   ]
  },
  {
   "cell_type": "code",
   "execution_count": 8,
   "id": "320cbc3d-6f70-490a-bb52-f4c7d71c1ab7",
   "metadata": {},
   "outputs": [
    {
     "name": "stdout",
     "output_type": "stream",
     "text": [
      "| group | Matlab Value | Python Value | Rel Err |\n",
      "| --- | --- | --- | --- |\n",
      "| Sf | 1.7696e-05 | 1.7696e-05 | 0.0000e+00 |\n",
      "| Sp | 9.3653e-06 | 9.3653e-06 | 0.0000e+00 |\n",
      "| Sd | 9.4481e-06 | 9.4481e-06 | 0.0000e+00 |\n",
      "| Mf | 4.0856e-04 | 4.0856e-04 | 1.3269e-16 |\n",
      "| Mp | 3.1926e-04 | 3.1926e-04 | 0.0000e+00 |\n",
      "| Md | 3.1755e-04 | 3.1755e-04 | 1.7071e-16 |\n",
      "| Lp | 4.7386e-04 | 4.7386e-04 | 0.0000e+00 |\n",
      "| Ld | 2.2687e-04 | 2.2687e-04 | 7.1683e-16 |\n",
      "| benthic_prey | 6.3646e-01 | 6.3646e-01 | 0.0000e+00 |\n"
     ]
    }
   ],
   "source": [
    "compare(\n",
    "    baselines[matlab_script][check_key][\"biomass\"],\n",
    "    test_ds[\"biomass\"],\n",
    "    markdown_formatting=True,\n",
    ")"
   ]
  },
  {
   "cell_type": "raw",
   "id": "24699352-3343-4d67-a1e5-e93f847974e1",
   "metadata": {},
   "source": [
    "compare(\n",
    "    baselines[matlab_script][check_key][\"T_habitat\"],\n",
    "    test_ds[\"T_habitat\"],\n",
    "    markdown_formatting=True,\n",
    ")"
   ]
  },
  {
   "cell_type": "raw",
   "id": "6bd6c1d5-bd31-4ec3-9914-70c9b6f1d4db",
   "metadata": {},
   "source": [
    "compare(\n",
    "    baselines[matlab_script][check_key][\"metabolism\"],\n",
    "    test_ds[\"metabolism_rate\"],\n",
    "    markdown_formatting=True,\n",
    ")"
   ]
  },
  {
   "cell_type": "raw",
   "id": "dcfe8a0f-65de-4a48-b4a0-4ccdaa4afc82",
   "metadata": {},
   "source": [
    "compare(\n",
    "    baselines[matlab_script][check_key][\"encounter\"],\n",
    "    test_ds[\"encounter_rate_link\"],\n",
    "    markdown_formatting=True,\n",
    ")"
   ]
  },
  {
   "cell_type": "raw",
   "id": "e0fcbfa8-08e7-4b27-9d4f-496d03ae02b5",
   "metadata": {},
   "source": [
    "compare(\n",
    "    baselines[matlab_script][check_key][\"consumption\"],\n",
    "    test_ds[\"consumption_rate_link\"],\n",
    "    markdown_formatting=True,\n",
    ")"
   ]
  },
  {
   "cell_type": "raw",
   "id": "b204fb87-5943-4581-bb39-5cf08a89b1a5",
   "metadata": {},
   "source": [
    "compare(\n",
    "    baselines[matlab_script][check_key][\"ingestion\"],\n",
    "    test_ds[\"ingestion_rate\"],\n",
    "    markdown_formatting=True,\n",
    ")"
   ]
  },
  {
   "cell_type": "raw",
   "id": "edaf346c-ef77-4dc2-8114-484c5fc307fb",
   "metadata": {},
   "source": [
    "compare(\n",
    "    baselines[matlab_script][check_key][\"predation\"],\n",
    "    test_ds[\"predation_rate\"],\n",
    "    markdown_formatting=True,\n",
    ")"
   ]
  },
  {
   "cell_type": "raw",
   "id": "302fd23f-8cca-4570-9418-7d3f3c8cf2e7",
   "metadata": {},
   "source": [
    "compare(\n",
    "    baselines[matlab_script][check_key][\"mortality\"],\n",
    "    test_ds[\"mortality_rate\"],\n",
    "    markdown_formatting=True,\n",
    ")"
   ]
  },
  {
   "cell_type": "raw",
   "id": "fa6dbe67-d1c0-4422-baac-f86aab5411bf",
   "metadata": {},
   "source": [
    "compare(\n",
    "    baselines[matlab_script][check_key][\"fishing\"],\n",
    "    test_ds[\"fish_catch_rate\"],\n",
    "    markdown_formatting=True,\n",
    ")"
   ]
  },
  {
   "cell_type": "raw",
   "id": "6324ef2d-80ca-4dab-b815-a9551da0291b",
   "metadata": {},
   "source": [
    "compare(\n",
    "    baselines[matlab_script][check_key][\"avail_energy\"],\n",
    "    test_ds[\"energy_avail_rate\"],\n",
    "    markdown_formatting=True,\n",
    ")"
   ]
  },
  {
   "cell_type": "raw",
   "id": "230d6f89-3589-43a4-9120-8f7bb6d78c08",
   "metadata": {},
   "source": [
    "compare(\n",
    "    baselines[matlab_script][check_key][\"growth\"],\n",
    "    test_ds[\"growth_rate\"],\n",
    "    markdown_formatting=True,\n",
    ")"
   ]
  },
  {
   "cell_type": "raw",
   "id": "d11e0e69-5bc6-4fb1-9e08-4a2490c3e838",
   "metadata": {},
   "source": [
    "compare(\n",
    "    baselines[matlab_script][check_key][\"reproduction\"],\n",
    "    test_ds[\"reproduction_rate\"],\n",
    "    markdown_formatting=True,\n",
    ")"
   ]
  },
  {
   "cell_type": "raw",
   "id": "4394c595-988d-4a4d-97f2-87a95751e247",
   "metadata": {},
   "source": [
    "compare(\n",
    "    baselines[matlab_script][check_key][\"recruitment\"],\n",
    "    test_ds[\"recruitment_flux\"],\n",
    "    markdown_formatting=True,\n",
    ")"
   ]
  }
 ],
 "metadata": {
  "kernelspec": {
   "display_name": "Python [conda env:miniconda3-dev-feisty]",
   "language": "python",
   "name": "conda-env-miniconda3-dev-feisty-py"
  },
  "language_info": {
   "codemirror_mode": {
    "name": "ipython",
    "version": 3
   },
   "file_extension": ".py",
   "mimetype": "text/x-python",
   "name": "python",
   "nbconvert_exporter": "python",
   "pygments_lexer": "ipython3",
   "version": "3.10.1"
  }
 },
 "nbformat": 4,
 "nbformat_minor": 5
}
